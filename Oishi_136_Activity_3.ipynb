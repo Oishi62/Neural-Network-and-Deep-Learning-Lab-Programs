{
 "cells": [
  {
   "cell_type": "markdown",
   "metadata": {},
   "source": [
    "ACTIVITY 3"
   ]
  },
  {
   "cell_type": "code",
   "execution_count": 12,
   "metadata": {},
   "outputs": [],
   "source": [
    "import numpy as np\n",
    "import tensorflow as tf\n",
    "from tensorflow.keras.datasets import mnist\n",
    "from sklearn.preprocessing import OneHotEncoder\n",
    "from sklearn.model_selection import train_test_split\n",
    "import matplotlib.pyplot as plt\n",
    "from sklearn.metrics import confusion_matrix, classification_report\n",
    "\n",
    "\n",
    "# Load MNIST dataset\n",
    "(x_train, y_train), (x_test, y_test) = mnist.load_data()"
   ]
  },
  {
   "cell_type": "markdown",
   "metadata": {},
   "source": [
    "Use the provided dataset and perform the EDA .\n",
    "Preprocess the data by normalizing features and one-hot encoding the labels."
   ]
  },
  {
   "cell_type": "code",
   "execution_count": 13,
   "metadata": {},
   "outputs": [],
   "source": [
    "# Preprocess the data (Normalize the features and one-hot encode the labels)\n",
    "x_train = x_train.reshape(-1, 28*28).astype('float32') / 255\n",
    "x_test = x_test.reshape(-1, 28*28).astype('float32') / 255\n",
    "\n",
    "encoder = OneHotEncoder(sparse_output=False)\n",
    "y_train = encoder.fit_transform(y_train.reshape(-1, 1))\n",
    "y_test = encoder.transform(y_test.reshape(-1, 1))\n",
    "\n",
    "# Split training data into train and validation sets\n",
    "x_train, x_val, y_train, y_val = train_test_split(x_train, y_train, test_size=0.2, random_state=42)"
   ]
  },
  {
   "cell_type": "markdown",
   "metadata": {},
   "source": [
    "Implement a fully connected feedforward neural network with:\n",
    "Input layer\n",
    "Two hidden layers using the ReLU activation function\n",
    "Output layer using the Softmax activation function.\n",
    "Implement forward propagation for the network, where inputs pass through the network layers and generate predictions.\n",
    "Manually implement the backpropagation algorithm to compute the gradients of the loss function with respect to the weights.\n",
    "Update the weights using SGD and Adam optimizers.\n",
    "Implement the cross-entropy loss function to measure the model's performance."
   ]
  },
  {
   "cell_type": "code",
   "execution_count": 14,
   "metadata": {},
   "outputs": [],
   "source": [
    "# Define the feedforward neural network\n",
    "class NeuralNetwork:\n",
    "    def __init__(self, input_size, hidden_size1, hidden_size2, output_size):\n",
    "        self.W1 = np.random.randn(input_size, hidden_size1) * 0.01\n",
    "        self.b1 = np.zeros((1, hidden_size1))\n",
    "        self.W2 = np.random.randn(hidden_size1, hidden_size2) * 0.01\n",
    "        self.b2 = np.zeros((1, hidden_size2))\n",
    "        self.W3 = np.random.randn(hidden_size2, output_size) * 0.01\n",
    "        self.b3 = np.zeros((1, output_size))\n",
    "\n",
    "    def relu(self, Z):\n",
    "        return np.maximum(0, Z)\n",
    "\n",
    "    def softmax(self, Z):\n",
    "        expZ = np.exp(Z - np.max(Z, axis=1, keepdims=True))\n",
    "        return expZ / np.sum(expZ, axis=1, keepdims=True)\n",
    "\n",
    "    def cross_entropy_loss(self, Y, Y_hat):\n",
    "        return -np.mean(np.sum(Y * np.log(Y_hat + 1e-8), axis=1))\n",
    "\n",
    "    def forward(self, X):\n",
    "        Z1 = np.dot(X, self.W1) + self.b1\n",
    "        A1 = self.relu(Z1)\n",
    "        Z2 = np.dot(A1, self.W2) + self.b2\n",
    "        A2 = self.relu(Z2)\n",
    "        Z3 = np.dot(A2, self.W3) + self.b3\n",
    "        A3 = self.softmax(Z3)\n",
    "        return Z1, A1, Z2, A2, Z3, A3\n",
    "\n",
    "    def backward(self, X, Y, Z1, A1, Z2, A2, Z3, A3):\n",
    "        m = X.shape[0]\n",
    "\n",
    "        dZ3 = A3 - Y\n",
    "        dW3 = np.dot(A2.T, dZ3) / m\n",
    "        db3 = np.sum(dZ3, axis=0, keepdims=True) / m\n",
    "\n",
    "        dA2 = np.dot(dZ3, self.W3.T)\n",
    "        dZ2 = dA2 * (Z2 > 0)\n",
    "        dW2 = np.dot(A1.T, dZ2) / m\n",
    "        db2 = np.sum(dZ2, axis=0, keepdims=True) / m\n",
    "\n",
    "        dA1 = np.dot(dZ2, self.W2.T)\n",
    "        dZ1 = dA1 * (Z1 > 0)\n",
    "        dW1 = np.dot(X.T, dZ1) / m\n",
    "        db1 = np.sum(dZ1, axis=0, keepdims=True) / m\n",
    "\n",
    "        return dW1, db1, dW2, db2, dW3, db3\n",
    "\n",
    "    def update_weights_sgd(self, dW1, db1, dW2, db2, dW3, db3, lr):\n",
    "        self.W1 -= lr * dW1\n",
    "        self.b1 -= lr * db1\n",
    "        self.W2 -= lr * dW2\n",
    "        self.b2 -= lr * db2\n",
    "        self.W3 -= lr * dW3\n",
    "        self.b3 -= lr * db3\n",
    "\n",
    "    def update_weights_adam(self, dW1, db1, dW2, db2, dW3, db3, lr, t, beta1=0.9, beta2=0.999, epsilon=1e-8):\n",
    "        # Initialize moment estimates\n",
    "        if not hasattr(self, 'mW1'):\n",
    "            self.mW1, self.vW1 = np.zeros_like(dW1), np.zeros_like(dW1)\n",
    "            self.mb1, self.vb1 = np.zeros_like(db1), np.zeros_like(db1)\n",
    "            self.mW2, self.vW2 = np.zeros_like(dW2), np.zeros_like(dW2)\n",
    "            self.mb2, self.vb2 = np.zeros_like(db2), np.zeros_like(db2)\n",
    "            self.mW3, self.vW3 = np.zeros_like(dW3), np.zeros_like(dW3)\n",
    "            self.mb3, self.vb3 = np.zeros_like(db3), np.zeros_like(db3)\n",
    "\n",
    "        # Update biased first moment estimate\n",
    "        self.mW1 = beta1 * self.mW1 + (1 - beta1) * dW1\n",
    "        self.mb1 = beta1 * self.mb1 + (1 - beta1) * db1\n",
    "        self.mW2 = beta1 * self.mW2 + (1 - beta1) * dW2\n",
    "        self.mb2 = beta1 * self.mb2 + (1 - beta1) * db2\n",
    "        self.mW3 = beta1 * self.mW3 + (1 - beta1) * dW3\n",
    "        self.mb3 = beta1 * self.mb3 + (1 - beta1) * db3\n",
    "\n",
    "        # Update biased second raw moment estimate\n",
    "        self.vW1 = beta2 * self.vW1 + (1 - beta2) * (dW1 ** 2)\n",
    "        self.vb1 = beta2 * self.vb1 + (1 - beta2) * (db1 ** 2)\n",
    "        self.vW2 = beta2 * self.vW2 + (1 - beta2) * (dW2 ** 2)\n",
    "        self.vb2 = beta2 * self.vb2 + (1 - beta2) * (db2 ** 2)\n",
    "        self.vW3 = beta2 * self.vW3 + (1 - beta2) * (dW3 ** 2)\n",
    "        self.vb3 = beta2 * self.vb3 + (1 - beta2) * (db3 ** 2)\n",
    "\n",
    "        # Compute bias-corrected first and second moment estimates\n",
    "        mW1_hat = self.mW1 / (1 - beta1 ** t)\n",
    "        mb1_hat = self.mb1 / (1 - beta1 ** t)\n",
    "        mW2_hat = self.mW2 / (1 - beta1 ** t)\n",
    "        mb2_hat = self.mb2 / (1 - beta1 ** t)\n",
    "        mW3_hat = self.mW3 / (1 - beta1 ** t)\n",
    "        mb3_hat = self.mb3 / (1 - beta1 ** t)\n",
    "\n",
    "        vW1_hat = self.vW1 / (1 - beta2 ** t)\n",
    "        vb1_hat = self.vb1 / (1 - beta2 ** t)\n",
    "        vW2_hat = self.vW2 / (1 - beta2 ** t)\n",
    "        vb2_hat = self.vb2 / (1 - beta2 ** t)\n",
    "        vW3_hat = self.vW3 / (1 - beta2 ** t)\n",
    "        vb3_hat = self.vb3 / (1 - beta2 ** t)\n",
    "\n",
    "        # Update weights\n",
    "        self.W1 -= lr * mW1_hat / (np.sqrt(vW1_hat) + epsilon)\n",
    "        self.b1 -= lr * mb1_hat / (np.sqrt(vb1_hat) + epsilon)\n",
    "        self.W2 -= lr * mW2_hat / (np.sqrt(vW2_hat) + epsilon)\n",
    "        self.b2 -= lr * mb2_hat / (np.sqrt(vb2_hat) + epsilon)\n",
    "        self.W3 -= lr * mW3_hat / (np.sqrt(vW3_hat) + epsilon)\n",
    "        self.b3 -= lr * mb3_hat / (np.sqrt(vb3_hat) + epsilon)\n"
   ]
  },
  {
   "cell_type": "code",
   "execution_count": 15,
   "metadata": {},
   "outputs": [],
   "source": [
    "# Initialize neural network and parameters\n",
    "input_size = 28 * 28\n",
    "hidden_size1 = 128\n",
    "hidden_size2 = 64\n",
    "output_size = 10\n",
    "epochs = 20\n",
    "lr_sgd = 0.01\n",
    "lr_adam = 0.001\n",
    "\n",
    "nn_sgd = NeuralNetwork(input_size, hidden_size1, hidden_size2, output_size)\n",
    "nn_adam = NeuralNetwork(input_size, hidden_size1, hidden_size2, output_size)\n"
   ]
  },
  {
   "cell_type": "markdown",
   "metadata": {},
   "source": [
    "Train the model on the dataset using both optimizers and plot the loss curves over epochs."
   ]
  },
  {
   "cell_type": "code",
   "execution_count": 16,
   "metadata": {},
   "outputs": [],
   "source": [
    "# Training process for both optimizers (SGD and Adam)\n",
    "def train_network(nn, optimizer, lr, epochs, x_train, y_train, x_val, y_val):\n",
    "    train_loss = []\n",
    "    val_loss = []\n",
    "    for epoch in range(epochs):\n",
    "        # Forward pass\n",
    "        Z1, A1, Z2, A2, Z3, A3 = nn.forward(x_train)\n",
    "        loss = nn.cross_entropy_loss(y_train, A3)\n",
    "        train_loss.append(loss)\n",
    "\n",
    "        # Backward pass\n",
    "        dW1, db1, dW2, db2, dW3, db3 = nn.backward(x_train, y_train, Z1, A1, Z2, A2, Z3, A3)\n",
    "\n",
    "        # Update weights\n",
    "        if optimizer == \"sgd\":\n",
    "            nn.update_weights_sgd(dW1, db1, dW2, db2, dW3, db3, lr)\n",
    "        elif optimizer == \"adam\":\n",
    "            nn.update_weights_adam(dW1, db1, dW2, db2, dW3, db3, lr, epoch+1)\n",
    "\n",
    "        # Validation loss\n",
    "        _, _, _, _, _, A3_val = nn.forward(x_val)\n",
    "        val_loss.append(nn.cross_entropy_loss(y_val, A3_val))\n",
    "\n",
    "        print(f\"Epoch {epoch+1}/{epochs} - Train Loss: {loss:.4f} - Val Loss: {val_loss[-1]:.4f}\")\n",
    "\n",
    "    return train_loss, val_loss\n"
   ]
  },
  {
   "cell_type": "code",
   "execution_count": 17,
   "metadata": {},
   "outputs": [
    {
     "name": "stdout",
     "output_type": "stream",
     "text": [
      "Training using SGD:\n",
      "Epoch 1/20 - Train Loss: 2.3026 - Val Loss: 2.3026\n",
      "Epoch 2/20 - Train Loss: 2.3026 - Val Loss: 2.3026\n",
      "Epoch 3/20 - Train Loss: 2.3026 - Val Loss: 2.3026\n",
      "Epoch 4/20 - Train Loss: 2.3026 - Val Loss: 2.3026\n",
      "Epoch 5/20 - Train Loss: 2.3026 - Val Loss: 2.3026\n",
      "Epoch 6/20 - Train Loss: 2.3026 - Val Loss: 2.3026\n",
      "Epoch 7/20 - Train Loss: 2.3026 - Val Loss: 2.3026\n",
      "Epoch 8/20 - Train Loss: 2.3026 - Val Loss: 2.3026\n",
      "Epoch 9/20 - Train Loss: 2.3026 - Val Loss: 2.3026\n",
      "Epoch 10/20 - Train Loss: 2.3026 - Val Loss: 2.3026\n",
      "Epoch 11/20 - Train Loss: 2.3026 - Val Loss: 2.3026\n",
      "Epoch 12/20 - Train Loss: 2.3026 - Val Loss: 2.3026\n",
      "Epoch 13/20 - Train Loss: 2.3026 - Val Loss: 2.3026\n",
      "Epoch 14/20 - Train Loss: 2.3026 - Val Loss: 2.3026\n",
      "Epoch 15/20 - Train Loss: 2.3026 - Val Loss: 2.3026\n",
      "Epoch 16/20 - Train Loss: 2.3026 - Val Loss: 2.3026\n",
      "Epoch 17/20 - Train Loss: 2.3026 - Val Loss: 2.3026\n",
      "Epoch 18/20 - Train Loss: 2.3026 - Val Loss: 2.3026\n",
      "Epoch 19/20 - Train Loss: 2.3026 - Val Loss: 2.3026\n",
      "Epoch 20/20 - Train Loss: 2.3026 - Val Loss: 2.3026\n",
      "\n",
      "Training using Adam:\n",
      "Epoch 1/20 - Train Loss: 2.3026 - Val Loss: 2.3018\n",
      "Epoch 2/20 - Train Loss: 2.3018 - Val Loss: 2.3006\n",
      "Epoch 3/20 - Train Loss: 2.3006 - Val Loss: 2.2988\n",
      "Epoch 4/20 - Train Loss: 2.2987 - Val Loss: 2.2960\n",
      "Epoch 5/20 - Train Loss: 2.2960 - Val Loss: 2.2923\n",
      "Epoch 6/20 - Train Loss: 2.2922 - Val Loss: 2.2873\n",
      "Epoch 7/20 - Train Loss: 2.2871 - Val Loss: 2.2808\n",
      "Epoch 8/20 - Train Loss: 2.2806 - Val Loss: 2.2725\n",
      "Epoch 9/20 - Train Loss: 2.2722 - Val Loss: 2.2621\n",
      "Epoch 10/20 - Train Loss: 2.2617 - Val Loss: 2.2494\n",
      "Epoch 11/20 - Train Loss: 2.2488 - Val Loss: 2.2339\n",
      "Epoch 12/20 - Train Loss: 2.2332 - Val Loss: 2.2155\n",
      "Epoch 13/20 - Train Loss: 2.2146 - Val Loss: 2.1939\n",
      "Epoch 14/20 - Train Loss: 2.1927 - Val Loss: 2.1688\n",
      "Epoch 15/20 - Train Loss: 2.1673 - Val Loss: 2.1400\n",
      "Epoch 16/20 - Train Loss: 2.1382 - Val Loss: 2.1073\n",
      "Epoch 17/20 - Train Loss: 2.1053 - Val Loss: 2.0708\n",
      "Epoch 18/20 - Train Loss: 2.0684 - Val Loss: 2.0302\n",
      "Epoch 19/20 - Train Loss: 2.0276 - Val Loss: 1.9856\n",
      "Epoch 20/20 - Train Loss: 1.9828 - Val Loss: 1.9371\n"
     ]
    }
   ],
   "source": [
    "# Train using SGD\n",
    "print(\"Training using SGD:\")\n",
    "train_loss_sgd, val_loss_sgd = train_network(nn_sgd, \"sgd\", lr_sgd, epochs, x_train, y_train, x_val, y_val)\n",
    "\n",
    "# Train using Adam\n",
    "print(\"\\nTraining using Adam:\")\n",
    "train_loss_adam, val_loss_adam = train_network(nn_adam, \"adam\", lr_adam, epochs, x_train, y_train, x_val, y_val)\n"
   ]
  },
  {
   "cell_type": "code",
   "execution_count": 18,
   "metadata": {},
   "outputs": [
    {
     "data": {
      "image/png": "[encoded data removed]",
      "text/plain": [
       "<Figure size 1000x600 with 1 Axes>"
      ]
     },
     "metadata": {},
     "output_type": "display_data"
    }
   ],
   "source": [
    "# Plot loss curves for comparison\n",
    "plt.figure(figsize=(10, 6))\n",
    "plt.plot(train_loss_sgd, label=\"Train Loss SGD\", linestyle=\"--\", color=\"blue\")\n",
    "plt.plot(train_loss_adam, label=\"Train Loss Adam\", linestyle=\"--\", color=\"green\")\n",
    "plt.title(\"Loss Curves for SGD and Adam\")\n",
    "plt.xlabel(\"Epochs\")\n",
    "plt.ylabel(\"Loss\")\n",
    "plt.legend()\n",
    "plt.show()"
   ]
  },
  {
   "cell_type": "markdown",
   "metadata": {},
   "source": [
    "Evaluate the model on a test set using accuracy as the metric.\n",
    "Report the test accuracy and compare the results between SGD and Adam."
   ]
  },
  {
   "cell_type": "code",
   "execution_count": 19,
   "metadata": {},
   "outputs": [
    {
     "name": "stderr",
     "output_type": "stream",
     "text": [
      "C:\\Users\\USER\\AppData\\Roaming\\Python\\Python312\\site-packages\\sklearn\\metrics\\_classification.py:1517: UndefinedMetricWarning: Precision is ill-defined and being set to 0.0 in labels with no predicted samples. Use `zero_division` parameter to control this behavior.\n",
      "  _warn_prf(average, modifier, f\"{metric.capitalize()} is\", len(result))\n",
      "C:\\Users\\USER\\AppData\\Roaming\\Python\\Python312\\site-packages\\sklearn\\metrics\\_classification.py:1517: UndefinedMetricWarning: Precision is ill-defined and being set to 0.0 in labels with no predicted samples. Use `zero_division` parameter to control this behavior.\n",
      "  _warn_prf(average, modifier, f\"{metric.capitalize()} is\", len(result))\n",
      "C:\\Users\\USER\\AppData\\Roaming\\Python\\Python312\\site-packages\\sklearn\\metrics\\_classification.py:1517: UndefinedMetricWarning: Precision is ill-defined and being set to 0.0 in labels with no predicted samples. Use `zero_division` parameter to control this behavior.\n",
      "  _warn_prf(average, modifier, f\"{metric.capitalize()} is\", len(result))\n",
      "C:\\Users\\USER\\AppData\\Roaming\\Python\\Python312\\site-packages\\sklearn\\metrics\\_classification.py:1517: UndefinedMetricWarning: Precision is ill-defined and being set to 0.0 in labels with no predicted samples. Use `zero_division` parameter to control this behavior.\n",
      "  _warn_prf(average, modifier, f\"{metric.capitalize()} is\", len(result))\n",
      "C:\\Users\\USER\\AppData\\Roaming\\Python\\Python312\\site-packages\\sklearn\\metrics\\_classification.py:1517: UndefinedMetricWarning: Precision is ill-defined and being set to 0.0 in labels with no predicted samples. Use `zero_division` parameter to control this behavior.\n",
      "  _warn_prf(average, modifier, f\"{metric.capitalize()} is\", len(result))\n"
     ]
    },
    {
     "name": "stdout",
     "output_type": "stream",
     "text": [
      "Test Accuracy (SGD): 11.35%\n",
      "Confusion Matrix (SGD):\n",
      " [[   0  962    0    0    0    0    0   18    0    0]\n",
      " [   0 1135    0    0    0    0    0    0    0    0]\n",
      " [   0 1032    0    0    0    0    0    0    0    0]\n",
      " [   0 1002    0    0    0    0    0    8    0    0]\n",
      " [   0  982    0    0    0    0    0    0    0    0]\n",
      " [   0  884    0    0    0    0    0    8    0    0]\n",
      " [   0  949    0    0    0    0    0    9    0    0]\n",
      " [   0 1028    0    0    0    0    0    0    0    0]\n",
      " [   0  972    0    0    0    0    0    2    0    0]\n",
      " [   0 1009    0    0    0    0    0    0    0    0]]\n",
      "Classification Report (SGD):\n",
      "               precision    recall  f1-score   support\n",
      "\n",
      "           0       0.00      0.00      0.00       980\n",
      "           1       0.11      1.00      0.20      1135\n",
      "           2       0.00      0.00      0.00      1032\n",
      "           3       0.00      0.00      0.00      1010\n",
      "           4       0.00      0.00      0.00       982\n",
      "           5       0.00      0.00      0.00       892\n",
      "           6       0.00      0.00      0.00       958\n",
      "           7       0.00      0.00      0.00      1028\n",
      "           8       0.00      0.00      0.00       974\n",
      "           9       0.00      0.00      0.00      1009\n",
      "\n",
      "    accuracy                           0.11     10000\n",
      "   macro avg       0.01      0.10      0.02     10000\n",
      "weighted avg       0.01      0.11      0.02     10000\n",
      "\n",
      "Test Accuracy (Adam): 47.84%\n",
      "Confusion Matrix (Adam):\n",
      " [[964   0   8   7   0   0   1   0   0   0]\n",
      " [  0  71 197 260   0   0   4   1 602   0]\n",
      " [ 60   0 825 103   0   0  41   3   0   0]\n",
      " [ 56   0  61 875   1   0   0  13   4   0]\n",
      " [181   0  10   2 458   0 189  75  21  46]\n",
      " [490   0  61 248   1   0  20  46  26   0]\n",
      " [ 71   0 313  10   1   0 561   0   2   0]\n",
      " [ 95   0  22  49   7   0   8 800  46   1]\n",
      " [223   0 122 439   3   0  18  29 140   0]\n",
      " [133   0   3  16  98   0  15 624  30  90]]\n",
      "Classification Report (Adam):\n",
      "               precision    recall  f1-score   support\n",
      "\n",
      "           0       0.42      0.98      0.59       980\n",
      "           1       1.00      0.06      0.12      1135\n",
      "           2       0.51      0.80      0.62      1032\n",
      "           3       0.44      0.87      0.58      1010\n",
      "           4       0.80      0.47      0.59       982\n",
      "           5       0.00      0.00      0.00       892\n",
      "           6       0.65      0.59      0.62       958\n",
      "           7       0.50      0.78      0.61      1028\n",
      "           8       0.16      0.14      0.15       974\n",
      "           9       0.66      0.09      0.16      1009\n",
      "\n",
      "    accuracy                           0.48     10000\n",
      "   macro avg       0.51      0.48      0.40     10000\n",
      "weighted avg       0.53      0.48      0.40     10000\n",
      "\n"
     ]
    },
    {
     "name": "stderr",
     "output_type": "stream",
     "text": [
      "C:\\Users\\USER\\AppData\\Roaming\\Python\\Python312\\site-packages\\sklearn\\metrics\\_classification.py:1517: UndefinedMetricWarning: Precision is ill-defined and being set to 0.0 in labels with no predicted samples. Use `zero_division` parameter to control this behavior.\n",
      "  _warn_prf(average, modifier, f\"{metric.capitalize()} is\", len(result))\n"
     ]
    }
   ],
   "source": [
    "# Evaluate on the test set using accuracy, confusion matrix, and classification report\n",
    "def evaluate_model(nn, x_test, y_test):\n",
    "    _, _, _, _, _, A3 = nn.forward(x_test)\n",
    "    predictions = np.argmax(A3, axis=1)\n",
    "    labels = np.argmax(y_test, axis=1)\n",
    "    \n",
    "    # Calculate accuracy\n",
    "    accuracy = np.mean(predictions == labels)\n",
    "\n",
    "    # Generate confusion matrix\n",
    "    conf_matrix = confusion_matrix(labels, predictions)\n",
    "\n",
    "    # Generate classification report\n",
    "    class_report = classification_report(labels, predictions)\n",
    "\n",
    "    return accuracy, conf_matrix, class_report\n",
    "\n",
    "# Test evaluation for SGD\n",
    "test_accuracy_sgd, conf_matrix_sgd, class_report_sgd = evaluate_model(nn_sgd, x_test, y_test)\n",
    "print(f\"Test Accuracy (SGD): {test_accuracy_sgd * 100:.2f}%\")\n",
    "print(\"Confusion Matrix (SGD):\\n\", conf_matrix_sgd)\n",
    "print(\"Classification Report (SGD):\\n\", class_report_sgd)\n",
    "\n",
    "# Test evaluation for Adam\n",
    "test_accuracy_adam, conf_matrix_adam, class_report_adam = evaluate_model(nn_adam, x_test, y_test)\n",
    "print(f\"Test Accuracy (Adam): {test_accuracy_adam * 100:.2f}%\")\n",
    "print(\"Confusion Matrix (Adam):\\n\", conf_matrix_adam)\n",
    "print(\"Classification Report (Adam):\\n\", class_report_adam)\n"
   ]
  },
  {
   "cell_type": "markdown",
   "metadata": {},
   "source": [
    "How do the two optimizers (SGD and Adam) differ in terms of convergence speed and final accuracy?\n",
    "\n",
    "Adam generally converges faster than SGD and may achieve better performance due to adaptive learning rates."
   ]
  },
  {
   "cell_type": "markdown",
   "metadata": {},
   "source": [
    "How does the choice of activation function (ReLU vs others like sigmoid or tanh) impact the training process and results?\n",
    "\n",
    "ReLU is efficient for deep networks, but Sigmoid or Tanh could lead to slower convergence due to vanishing gradients."
   ]
  },
  {
   "cell_type": "markdown",
   "metadata": {},
   "source": [
    "What challenges did you encounter while implementing backpropagation, and how did you resolve them?\n",
    "\n",
    "I faced issues in gradient calculations due to matrix dimensions, but careful tracking and reshaping resolved issues."
   ]
  },
  {
   "cell_type": "markdown",
   "metadata": {},
   "source": [
    "Explain the importance of the cross-entropy loss function in classification problems.\n",
    "\n",
    "It quantifies the difference between the predicted probability distribution and the actual labels."
   ]
  }
 ],
 "metadata": {
  "kernelspec": {
   "display_name": "Python 3",
   "language": "python",
   "name": "python3"
  },
  "language_info": {
   "codemirror_mode": {
    "name": "ipython",
    "version": 3
   },
   "file_extension": ".py",
   "mimetype": "text/x-python",
   "name": "python",
   "nbconvert_exporter": "python",
   "pygments_lexer": "ipython3",
   "version": "3.12.4"
  }
 },
 "nbformat": 4,
 "nbformat_minor": 2
}
